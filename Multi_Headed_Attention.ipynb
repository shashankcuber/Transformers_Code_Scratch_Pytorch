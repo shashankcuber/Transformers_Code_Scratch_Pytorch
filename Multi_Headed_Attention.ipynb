{
  "nbformat": 4,
  "nbformat_minor": 0,
  "metadata": {
    "colab": {
      "provenance": []
    },
    "kernelspec": {
      "name": "python3",
      "display_name": "Python 3"
    },
    "language_info": {
      "name": "python"
    }
  },
  "cells": [
    {
      "cell_type": "markdown",
      "source": [
        "# Multi-Head Attn"
      ],
      "metadata": {
        "id": "YeTJn7cC-a2q"
      }
    },
    {
      "cell_type": "code",
      "execution_count": null,
      "metadata": {
        "id": "lDCwdbq5-WKv"
      },
      "outputs": [],
      "source": [
        "import numpy as np\n",
        "import torch\n",
        "import torch.nn as nn\n",
        "import torch.nn.functional as F"
      ]
    },
    {
      "cell_type": "code",
      "source": [
        "sequence_length = 4 # usually maxm sequence length in the batch\n",
        "batch_size = 1\n",
        "input_dim = 512 # vector dimension of every word that goes into attention unit\n",
        "d_model = 512 # output from the model\n",
        "x = torch.randn((batch_size, sequence_length, input_dim)) # randomly sampled input not creating position encoding right now , it will have dimension = [1, 4, 512]"
      ],
      "metadata": {
        "id": "8Mkk-_58-oqN"
      },
      "execution_count": null,
      "outputs": []
    },
    {
      "cell_type": "code",
      "source": [
        "x.size()"
      ],
      "metadata": {
        "colab": {
          "base_uri": "https://localhost:8080/"
        },
        "id": "BqQHsz8V_f8o",
        "outputId": "a9a7bee4-1efa-452f-b21f-001b6a627918"
      },
      "execution_count": null,
      "outputs": [
        {
          "output_type": "execute_result",
          "data": {
            "text/plain": [
              "torch.Size([1, 4, 512])"
            ]
          },
          "metadata": {},
          "execution_count": 3
        }
      ]
    },
    {
      "cell_type": "code",
      "source": [
        "# x is something which will be there in multi-headed attention unit\n",
        "qkv_layer = nn.Linear(input_dim, 3*d_model) # this will give q, k and v vector for all the 8 attention heads (3 * d_model), which will be separated later on, here 3 is multiplied as we have 3 vectors q,k and v."
      ],
      "metadata": {
        "id": "szAdxUIX_hYY"
      },
      "execution_count": null,
      "outputs": []
    },
    {
      "cell_type": "code",
      "source": [
        "qkv = qkv_layer(x)"
      ],
      "metadata": {
        "id": "KAvoUEDzAAFs"
      },
      "execution_count": null,
      "outputs": []
    },
    {
      "cell_type": "code",
      "source": [
        "qkv.shape"
      ],
      "metadata": {
        "colab": {
          "base_uri": "https://localhost:8080/"
        },
        "id": "FO6fozXlADsh",
        "outputId": "2fa5b771-e264-4ca5-f37b-9d017eefd471"
      },
      "execution_count": null,
      "outputs": [
        {
          "output_type": "execute_result",
          "data": {
            "text/plain": [
              "torch.Size([1, 4, 1536])"
            ]
          },
          "metadata": {},
          "execution_count": 6
        }
      ]
    },
    {
      "cell_type": "markdown",
      "source": [
        "Here it's 1 batch, 4 words and each word vector is 1536 in size from which I will separte out 8 heads q,k and v."
      ],
      "metadata": {
        "id": "o88V1o8rALQq"
      }
    },
    {
      "cell_type": "code",
      "source": [
        "import matplotlib.pyplot as plt\n",
        "\n",
        "y_val = torch.histc(qkv, bins=200, min=-3, max=3)\n",
        "x_val = np.arange(-1, 1, 0.01) * 3\n",
        "\n",
        "plt.bar(x_val, y_val, align='center', color='green')\n",
        "plt.title('qkv_distribution')"
      ],
      "metadata": {
        "colab": {
          "base_uri": "https://localhost:8080/",
          "height": 470
        },
        "id": "XkQS6CWHAF14",
        "outputId": "f4bda821-bba4-43b2-e587-ad01f88f1cad"
      },
      "execution_count": null,
      "outputs": [
        {
          "output_type": "execute_result",
          "data": {
            "text/plain": [
              "Text(0.5, 1.0, 'qkv_distribution')"
            ]
          },
          "metadata": {},
          "execution_count": 7
        },
        {
          "output_type": "display_data",
          "data": {
            "text/plain": [
              "<Figure size 640x480 with 1 Axes>"
            ],
            "image/png": "[encoded data removed]"
          },
          "metadata": {}
        }
      ]
    },
    {
      "cell_type": "markdown",
      "source": [
        "Values are sampled from random distribution"
      ],
      "metadata": {
        "id": "KenlJrmVA8bv"
      }
    },
    {
      "cell_type": "code",
      "source": [
        "# Now coming to multi-headed attention\n",
        "num_heads = 8\n",
        "head_dim = d_model//num_heads # 8 attention head so each attention head will have dimension 512/8 = 64\n",
        "qkv = qkv.reshape(batch_size, sequence_length, num_heads, 3*head_dim) # break down the last dimension into product of (number of heads , 3*head_dim) 3 multiplied for q,k and v"
      ],
      "metadata": {
        "id": "WVuTK2EbA2dL"
      },
      "execution_count": null,
      "outputs": []
    },
    {
      "cell_type": "code",
      "source": [
        "qkv.shape #"
      ],
      "metadata": {
        "id": "dh72ODRGBm5C",
        "colab": {
          "base_uri": "https://localhost:8080/"
        },
        "outputId": "a3317cc5-e3aa-4216-a57d-4e8419c25f9e"
      },
      "execution_count": null,
      "outputs": [
        {
          "output_type": "execute_result",
          "data": {
            "text/plain": [
              "torch.Size([1, 4, 8, 192])"
            ]
          },
          "metadata": {},
          "execution_count": 11
        }
      ]
    },
    {
      "cell_type": "code",
      "source": [
        "#reshape the qkv by switching it to [batch_size, n_heads, seq_length, 64*3=192]\n",
        "qkv = qkv.permute(0,2,1,3)"
      ],
      "metadata": {
        "id": "0HuxXMtS3JUn"
      },
      "execution_count": null,
      "outputs": []
    },
    {
      "cell_type": "code",
      "source": [
        "# now we will take out q, k and v for each head by breaking down it's last dimension\n",
        "q, k, v = qkv.chunk(3, dim=-1)\n",
        "q.shape, k.shape, v.shape"
      ],
      "metadata": {
        "colab": {
          "base_uri": "https://localhost:8080/"
        },
        "id": "bkmF709p36YZ",
        "outputId": "d0022f01-a3ef-417a-e2fd-bcc1e477d590"
      },
      "execution_count": null,
      "outputs": [
        {
          "output_type": "execute_result",
          "data": {
            "text/plain": [
              "(torch.Size([1, 8, 4, 64]),\n",
              " torch.Size([1, 8, 4, 64]),\n",
              " torch.Size([1, 8, 4, 64]))"
            ]
          },
          "metadata": {},
          "execution_count": 14
        }
      ]
    },
    {
      "cell_type": "markdown",
      "source": [
        "Each q , k and v vectors are for all 8 attention heads."
      ],
      "metadata": {
        "id": "5P9mlJOG4Kky"
      }
    },
    {
      "cell_type": "code",
      "source": [
        "# Now we will perform self attention for multiple heads\n",
        "# For single head it's softmax(q k.T/ sqrt(d_k=64 here) + M=masking)\n",
        "# newV = attention_score . V\n",
        "import math\n",
        "d_k = q.size()[-1] # it will be 64\n",
        "scaled_attention = torch.matmul(q, k.transpose(-2, -1))/ math.sqrt(d_k)\n",
        "scaled_attention.shape"
      ],
      "metadata": {
        "colab": {
          "base_uri": "https://localhost:8080/"
        },
        "id": "1UalN5bT4JvD",
        "outputId": "0dfcf50f-a5dd-4ad1-df02-0f9b1a01bcf4"
      },
      "execution_count": null,
      "outputs": [
        {
          "output_type": "execute_result",
          "data": {
            "text/plain": [
              "torch.Size([1, 8, 4, 4])"
            ]
          },
          "metadata": {},
          "execution_count": 16
        }
      ]
    },
    {
      "cell_type": "markdown",
      "source": [
        "So here we got for 8 heads, 4x4 attention matrix\n",
        "Now why we used transpose and not simple k.T because k is a tensor of multidimension and not simply a matrix"
      ],
      "metadata": {
        "id": "HDtil7Nc5g9X"
      }
    },
    {
      "cell_type": "code",
      "source": [
        "# masking in encoder we don't require masking but for decoder we require masking\n",
        "# we will create the mask same as scaled attention shape 1,8,4,4\n",
        "mask = torch.full(scaled_attention.size(), float('-inf'))\n",
        "mask = torch.triu(mask, diagonal=1) # take this mask and make triangualr matrix  and leave the value everything above the diagonal as same, diagonal=1 describes how many positions above the diagonal we want to keep the same value.\n",
        "mask[0][1]"
      ],
      "metadata": {
        "colab": {
          "base_uri": "https://localhost:8080/"
        },
        "id": "rOP1j_eG5cQM",
        "outputId": "39e0e151-9735-4d18-9698-5c76d056af5e"
      },
      "execution_count": null,
      "outputs": [
        {
          "output_type": "execute_result",
          "data": {
            "text/plain": [
              "tensor([[0., -inf, -inf, -inf],\n",
              "        [0., 0., -inf, -inf],\n",
              "        [0., 0., 0., -inf],\n",
              "        [0., 0., 0., 0.]])"
            ]
          },
          "metadata": {},
          "execution_count": 21
        }
      ]
    },
    {
      "cell_type": "code",
      "source": [
        "(scaled_attention + mask)[0][0] # this is for basically 1 head"
      ],
      "metadata": {
        "colab": {
          "base_uri": "https://localhost:8080/"
        },
        "id": "xQwJPeib6Uy5",
        "outputId": "e8fd7353-945d-4e38-88a0-4bc17481ce68"
      },
      "execution_count": null,
      "outputs": [
        {
          "output_type": "execute_result",
          "data": {
            "text/plain": [
              "tensor([[ 0.2742,    -inf,    -inf,    -inf],\n",
              "        [-0.1151, -0.3439,    -inf,    -inf],\n",
              "        [-0.4256,  0.6179,  0.1730,    -inf],\n",
              "        [-0.4276,  0.3121,  0.3044, -0.4874]], grad_fn=<SelectBackward0>)"
            ]
          },
          "metadata": {},
          "execution_count": 22
        }
      ]
    },
    {
      "cell_type": "code",
      "source": [
        "scaled_attention += mask # when we apply softmax these negative inf values will become 0"
      ],
      "metadata": {
        "id": "AcdOekUz68Yx"
      },
      "execution_count": null,
      "outputs": []
    },
    {
      "cell_type": "code",
      "source": [
        "attention_scores = F.softmax(scaled_attention, dim = -1)"
      ],
      "metadata": {
        "id": "EsRvLvbh6_eS"
      },
      "execution_count": null,
      "outputs": []
    },
    {
      "cell_type": "code",
      "source": [
        "# using this attention score we will calculate new value\n",
        "values = torch.matmul(attention_scores, v)\n",
        "values.shape"
      ],
      "metadata": {
        "colab": {
          "base_uri": "https://localhost:8080/"
        },
        "id": "ljnJQMUq7RH2",
        "outputId": "e8a5905d-0cf9-4018-8eff-33c8a6881715"
      },
      "execution_count": null,
      "outputs": [
        {
          "output_type": "execute_result",
          "data": {
            "text/plain": [
              "torch.Size([1, 8, 4, 64])"
            ]
          },
          "metadata": {},
          "execution_count": 26
        }
      ]
    },
    {
      "cell_type": "markdown",
      "source": [
        "Now this value score will have much richer representation of each word"
      ],
      "metadata": {
        "id": "ma69xrZA7h4d"
      }
    },
    {
      "cell_type": "markdown",
      "source": [
        "# Function to do the same"
      ],
      "metadata": {
        "id": "ERVQN1Ut83lT"
      }
    },
    {
      "cell_type": "code",
      "source": [
        "import math\n",
        "def scaled_dot_attention(q, k, v, mask=None):\n",
        "  d_k = q.size()[-1]\n",
        "  scaled_attention = torch.matmul(q, k.transpose(-1, -2)) / math.sqrt(d_k)\n",
        "  if mask is not None:\n",
        "    scaled_attention += mask\n",
        "\n",
        "  attention_scores = F.softmax(scaled_attention, dim = -1)\n",
        "  values = torch.matmul(attention_scores, v)\n",
        "  return values, attention_scores"
      ],
      "metadata": {
        "id": "DRXxJgkq7XdQ"
      },
      "execution_count": null,
      "outputs": []
    },
    {
      "cell_type": "code",
      "source": [
        "values, attention = scaled_dot_attention(q, k, v, mask=None)"
      ],
      "metadata": {
        "id": "4LNjrOS89hJt"
      },
      "execution_count": null,
      "outputs": []
    },
    {
      "cell_type": "code",
      "source": [
        "attention.shape"
      ],
      "metadata": {
        "colab": {
          "base_uri": "https://localhost:8080/"
        },
        "id": "n7PfMLal-J45",
        "outputId": "95c82b56-31bc-4688-d8c0-46f2d3793315"
      },
      "execution_count": null,
      "outputs": [
        {
          "output_type": "execute_result",
          "data": {
            "text/plain": [
              "torch.Size([1, 8, 4, 4])"
            ]
          },
          "metadata": {},
          "execution_count": 29
        }
      ]
    },
    {
      "cell_type": "code",
      "source": [
        "values.shape"
      ],
      "metadata": {
        "colab": {
          "base_uri": "https://localhost:8080/"
        },
        "id": "o8eh43ld-K-u",
        "outputId": "a1909d37-28a0-49c3-9d76-1d0eadef4609"
      },
      "execution_count": null,
      "outputs": [
        {
          "output_type": "execute_result",
          "data": {
            "text/plain": [
              "torch.Size([1, 8, 4, 64])"
            ]
          },
          "metadata": {},
          "execution_count": 30
        }
      ]
    },
    {
      "cell_type": "code",
      "source": [
        "attention[0][0]"
      ],
      "metadata": {
        "colab": {
          "base_uri": "https://localhost:8080/"
        },
        "id": "y2PV-H2D-L_q",
        "outputId": "c2b42c79-95ea-4bb2-c89d-cc458e7cf7b1"
      },
      "execution_count": null,
      "outputs": [
        {
          "output_type": "execute_result",
          "data": {
            "text/plain": [
              "tensor([[0.2907, 0.2243, 0.2694, 0.2156],\n",
              "        [0.2658, 0.2114, 0.1947, 0.3280],\n",
              "        [0.1430, 0.4061, 0.2603, 0.1906],\n",
              "        [0.1635, 0.3426, 0.3399, 0.1540]], grad_fn=<SelectBackward0>)"
            ]
          },
          "metadata": {},
          "execution_count": 31
        }
      ]
    },
    {
      "cell_type": "code",
      "source": [
        "values, attention = scaled_dot_attention(q, k, v, mask=mask)"
      ],
      "metadata": {
        "id": "pBItZ2c0-PIe"
      },
      "execution_count": null,
      "outputs": []
    },
    {
      "cell_type": "code",
      "source": [
        "attention[0][0]"
      ],
      "metadata": {
        "colab": {
          "base_uri": "https://localhost:8080/"
        },
        "id": "sL6h6SES-Rs2",
        "outputId": "e6ca9a5e-d773-4d8a-dd06-0d1d5945ec94"
      },
      "execution_count": null,
      "outputs": [
        {
          "output_type": "execute_result",
          "data": {
            "text/plain": [
              "tensor([[1.0000, 0.0000, 0.0000, 0.0000],\n",
              "        [0.5569, 0.4431, 0.0000, 0.0000],\n",
              "        [0.1767, 0.5017, 0.3215, 0.0000],\n",
              "        [0.1635, 0.3426, 0.3399, 0.1540]], grad_fn=<SelectBackward0>)"
            ]
          },
          "metadata": {},
          "execution_count": 35
        }
      ]
    },
    {
      "cell_type": "code",
      "source": [
        "values.size()"
      ],
      "metadata": {
        "colab": {
          "base_uri": "https://localhost:8080/"
        },
        "id": "lcZ2vvQQ-S6u",
        "outputId": "a992659e-ce4e-4109-a921-17e458363e2c"
      },
      "execution_count": null,
      "outputs": [
        {
          "output_type": "execute_result",
          "data": {
            "text/plain": [
              "torch.Size([1, 8, 4, 64])"
            ]
          },
          "metadata": {},
          "execution_count": 36
        }
      ]
    },
    {
      "cell_type": "code",
      "source": [
        "# we are going to concatenate all heads together\n",
        "values = values.reshape(batch_size, sequence_length, num_heads *  head_dim)"
      ],
      "metadata": {
        "id": "8AVv-zj9-kZZ"
      },
      "execution_count": null,
      "outputs": []
    },
    {
      "cell_type": "code",
      "source": [
        "values.shape"
      ],
      "metadata": {
        "colab": {
          "base_uri": "https://localhost:8080/"
        },
        "id": "ZjNAN57p-wJ9",
        "outputId": "d4d5b04a-e0d0-42f2-a99b-ac18cd3cd9d2"
      },
      "execution_count": null,
      "outputs": [
        {
          "output_type": "execute_result",
          "data": {
            "text/plain": [
              "torch.Size([1, 4, 512])"
            ]
          },
          "metadata": {},
          "execution_count": 38
        }
      ]
    },
    {
      "cell_type": "code",
      "source": [
        "# FFN over multiheaded\n",
        "linear_layer = nn.Linear(d_model, d_model)"
      ],
      "metadata": {
        "id": "KvcCTPPc-xAq"
      },
      "execution_count": null,
      "outputs": []
    },
    {
      "cell_type": "code",
      "source": [
        "out = linear_layer(values)"
      ],
      "metadata": {
        "id": "kR6BqHQa-8uE"
      },
      "execution_count": null,
      "outputs": []
    },
    {
      "cell_type": "code",
      "source": [
        "out.shape"
      ],
      "metadata": {
        "colab": {
          "base_uri": "https://localhost:8080/"
        },
        "id": "L78k10us_Air",
        "outputId": "9794d133-2255-426e-ec6a-2610c777403c"
      },
      "execution_count": null,
      "outputs": [
        {
          "output_type": "execute_result",
          "data": {
            "text/plain": [
              "torch.Size([1, 4, 512])"
            ]
          },
          "metadata": {},
          "execution_count": 41
        }
      ]
    },
    {
      "cell_type": "markdown",
      "source": [
        "Now this output from linear layer will be much more context aware !!"
      ],
      "metadata": {
        "id": "WqHBFBCo_GQu"
      }
    },
    {
      "cell_type": "markdown",
      "source": [
        "# Class Implementation"
      ],
      "metadata": {
        "id": "TNwmtOyOA8eI"
      }
    },
    {
      "cell_type": "code",
      "source": [
        "import torch\n",
        "import torch.nn as nn\n",
        "import math\n",
        "\n",
        "def scaled_dot_product(q, k, v, mask=None):\n",
        "    d_k = q.size()[-1]\n",
        "    scaled = torch.matmul(q, k.transpose(-1, -2)) / math.sqrt(d_k)\n",
        "    if mask is not None:\n",
        "        scaled += mask\n",
        "    attention = F.softmax(scaled, dim=-1)\n",
        "    values = torch.matmul(attention, v)\n",
        "    return values, attention\n",
        "\n",
        "class MultiheadAttention(nn.Module):\n",
        "\n",
        "    def __init__(self, input_dim, d_model, num_heads):\n",
        "        super().__init__()\n",
        "        self.input_dim = input_dim\n",
        "        self.d_model = d_model\n",
        "        self.num_heads = num_heads\n",
        "        self.head_dim = d_model // num_heads\n",
        "        self.qkv_layer = nn.Linear(input_dim , 3 * d_model)\n",
        "        self.linear_layer = nn.Linear(d_model, d_model)\n",
        "\n",
        "    def forward(self, x, mask=None):\n",
        "        batch_size, sequence_length, input_dim = x.size()\n",
        "        print(f\"x.size(): {x.size()}\")\n",
        "        qkv = self.qkv_layer(x)\n",
        "        print(f\"qkv.size(): {qkv.size()}\")\n",
        "        qkv = qkv.reshape(batch_size, sequence_length, self.num_heads, 3 * self.head_dim)\n",
        "        print(f\"qkv.size(): {qkv.size()}\")\n",
        "        qkv = qkv.permute(0, 2, 1, 3)\n",
        "        print(f\"qkv.size(): {qkv.size()}\")\n",
        "        q, k, v = qkv.chunk(3, dim=-1)\n",
        "        print(f\"q size: {q.size()}, k size: {k.size()}, v size: {v.size()}, \")\n",
        "        values, attention = scaled_dot_product(q, k, v, mask)\n",
        "        print(f\"values.size(): {values.size()}, attention.size:{ attention.size()} \")\n",
        "        values = values.reshape(batch_size, sequence_length, self.num_heads * self.head_dim)\n",
        "        print(f\"values.size(): {values.size()}\")\n",
        "        out = self.linear_layer(values)\n",
        "        print(f\"out.size(): {out.size()}\")\n",
        "        return out"
      ],
      "metadata": {
        "id": "NNi6nqsq_BUd"
      },
      "execution_count": null,
      "outputs": []
    },
    {
      "cell_type": "code",
      "source": [
        "input_dim = 1024\n",
        "d_model = 512\n",
        "num_heads = 8\n",
        "\n",
        "batch_size = 30\n",
        "sequence_length = 5\n",
        "x = torch.randn( (batch_size, sequence_length, input_dim) )\n",
        "\n",
        "model = MultiheadAttention(input_dim, d_model, num_heads)\n",
        "out = model.forward(x)"
      ],
      "metadata": {
        "colab": {
          "base_uri": "https://localhost:8080/"
        },
        "id": "amRepR2MBDNg",
        "outputId": "0183291e-07cf-4e51-8f0a-271128be79fe"
      },
      "execution_count": null,
      "outputs": [
        {
          "output_type": "stream",
          "name": "stdout",
          "text": [
            "x.size(): torch.Size([30, 5, 1024])\n",
            "qkv.size(): torch.Size([30, 5, 1536])\n",
            "qkv.size(): torch.Size([30, 5, 8, 192])\n",
            "qkv.size(): torch.Size([30, 8, 5, 192])\n",
            "q size: torch.Size([30, 8, 5, 64]), k size: torch.Size([30, 8, 5, 64]), v size: torch.Size([30, 8, 5, 64]), \n",
            "values.size(): torch.Size([30, 8, 5, 64]), attention.size:torch.Size([30, 8, 5, 5]) \n",
            "values.size(): torch.Size([30, 5, 512])\n",
            "out.size(): torch.Size([30, 5, 512])\n"
          ]
        }
      ]
    },
    {
      "cell_type": "code",
      "source": [],
      "metadata": {
        "id": "RZ3Wg5X9BFMp"
      },
      "execution_count": null,
      "outputs": []
    }
  ]
}